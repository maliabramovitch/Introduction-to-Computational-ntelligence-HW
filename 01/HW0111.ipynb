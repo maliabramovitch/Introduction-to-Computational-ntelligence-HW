{
 "cells": [
  {
   "cell_type": "code",
   "id": "initial_id",
   "metadata": {
    "collapsed": true,
    "ExecuteTime": {
     "end_time": "2024-12-21T18:24:32.107054Z",
     "start_time": "2024-12-21T18:24:32.101035Z"
    }
   },
   "source": [
    "import matplotlib.pyplot as plt\n",
    "import numpy as np"
   ],
   "outputs": [],
   "execution_count": 215
  },
  {
   "metadata": {
    "ExecuteTime": {
     "end_time": "2024-12-21T18:24:32.120736Z",
     "start_time": "2024-12-21T18:24:32.114065Z"
    }
   },
   "cell_type": "code",
   "source": [
    "def SwedishPump(b):\n",
    "    \"\"\"\n",
    "    @author: ofersh@telhai.ac.il\n",
    "    The correlation function, assumes a numpy vector {-1,+1} as input\n",
    "    \"\"\"\n",
    "    n = np.size(b)\n",
    "    E = []\n",
    "    for k in range(1, n):\n",
    "        E.append((b[:n - k].dot(b[k:])) ** 2)\n",
    "    return (n ** 2) / (2 * sum(E))"
   ],
   "id": "8d33c944b002e36a",
   "outputs": [],
   "execution_count": 216
  },
  {
   "metadata": {
    "ExecuteTime": {
     "end_time": "2024-12-21T18:24:32.162510Z",
     "start_time": "2024-12-21T18:24:32.151987Z"
    }
   },
   "cell_type": "code",
   "source": [
    "def SimulatedAnnealing(n=100, max_evals=1000, variation=lambda x: x + 2.0 * np.random.normal(size=len(x)),\n",
    "                       func=lambda x: x.dot(x), seed=None, alpha=0.99):\n",
    "    \"\"\"\n",
    "    @author: ofersh@telhai.ac.il\n",
    "    \"\"\"\n",
    "    T_init = 5\n",
    "    T_min = 1e-4\n",
    "    f_upper_bound = np.inf\n",
    "    eps_satisfactory = 1e-5\n",
    "    max_internal_runs = 200\n",
    "    local_state = np.random.RandomState(seed)\n",
    "    history = []\n",
    "    xbest = xmax = np.random.choice([1, -1], size=n)\n",
    "    fbest = fmax = func(xmax)\n",
    "    eval_cntr = 1\n",
    "    T = T_init\n",
    "    history.append(fmax)\n",
    "\n",
    "    while (T > T_min) and eval_cntr < max_evals:\n",
    "        for _ in range(max_internal_runs):\n",
    "            x = variation(xmax)\n",
    "            f_x = func(x)\n",
    "            eval_cntr += 1\n",
    "            dE = f_x - fmax\n",
    "            if dE >= 0 or local_state.uniform(size=1) < np.exp(dE / T):\n",
    "                xmax = x\n",
    "                fmax = f_x\n",
    "            if fmax > fbest:\n",
    "                fbest = f_x\n",
    "                xbest = x\n",
    "                if fbest > f_upper_bound - eps_satisfactory:\n",
    "                    T = T_min\n",
    "                    break\n",
    "            history.append(fmax)\n",
    "        T *= alpha\n",
    "    return xbest, fbest, history"
   ],
   "id": "69b440cf55603639",
   "outputs": [],
   "execution_count": 217
  },
  {
   "metadata": {
    "ExecuteTime": {
     "end_time": "2024-12-21T18:24:32.229440Z",
     "start_time": "2024-12-21T18:24:32.222687Z"
    }
   },
   "cell_type": "code",
   "source": [
    "def monte_carlo(n=100, evals=1000, func=SwedishPump):\n",
    "    \"\"\"\n",
    "    @author: ofersh@telhai.ac.il\n",
    "    \"\"\"\n",
    "    X = []\n",
    "    FX = []\n",
    "    fmax = -np.inf\n",
    "    xmax = 0\n",
    "    f_history = []\n",
    "    best_iteration = 0\n",
    "\n",
    "    for i in range(evals):\n",
    "        x = np.random.choice([1, -1], size=n)\n",
    "        f_x = func(x)\n",
    "        X.append(x)\n",
    "        FX.append(f_x)\n",
    "        if f_x > fmax:\n",
    "            fmax = f_x\n",
    "            xmax = x\n",
    "            best_iteration = i + 1  # Iterations start from 1\n",
    "        f_history.append(fmax)  # Track the best f(x) at each iteration\n",
    "    return fmax, xmax, f_history"
   ],
   "id": "500e996c9ea2cd62",
   "outputs": [],
   "execution_count": 218
  },
  {
   "metadata": {
    "ExecuteTime": {
     "end_time": "2024-12-21T18:24:32.247752Z",
     "start_time": "2024-12-21T18:24:32.239967Z"
    }
   },
   "cell_type": "code",
   "source": [
    "def Swap_Multiple_Pairs(x, randomness_factor=0.1, seed=None):\n",
    "    \"\"\"\n",
    "    @author: ChatGPT\n",
    "    Perform multiple controlled swaps between pairs of elements in the input binary vector.\n",
    "    Args:\n",
    "    - x (numpy.ndarray): The binary vector to modify.\n",
    "    - randomness_factor (float): Factor controlling randomness in the number of swaps.\n",
    "                                  A lower value will reduce randomness.\n",
    "    - seed (int, optional): A seed for reproducibility.\n",
    "    Returns:\n",
    "    - numpy.ndarray: The modified binary vector with swapped elements.\n",
    "    \"\"\"\n",
    "    np.random.seed(seed)  # Fix seed for reproducibility\n",
    "    x = x.copy()\n",
    "    num_swaps = int(np.random.randint(1, len(x) // 2) * randomness_factor)  # Control the number of swaps\n",
    "    for _ in range(num_swaps):\n",
    "        i, j = np.random.choice(len(x), size=2, replace=False)\n",
    "        x[i], x[j] = x[j], x[i]\n",
    "    return x"
   ],
   "id": "ff89a1503dbef96b",
   "outputs": [],
   "execution_count": 219
  },
  {
   "metadata": {
    "ExecuteTime": {
     "end_time": "2024-12-21T18:38:43.880073Z",
     "start_time": "2024-12-21T18:24:32.278312Z"
    }
   },
   "cell_type": "code",
   "source": [
    "n = 100\n",
    "evals = 1000000\n",
    "num_runs = 10\n",
    "alpha = 0.99  # Single alpha value\n",
    "func_res = {}\n",
    "history_dict = {}\n",
    "# Run Simulated Annealing with a single alpha value\n",
    "fbest_runs = []\n",
    "history_runs = []\n",
    "\n",
    "for run in range(num_runs):\n",
    "    xmax, fmax, h = SimulatedAnnealing(n, evals, Swap_Multiple_Pairs, SwedishPump, seed=run, alpha=alpha)\n",
    "    fbest_runs.append(fmax)\n",
    "    history_runs.append(h)\n",
    "\n",
    "max_fbest_index = np.argmax(fbest_runs)\n",
    "max_fbest = fbest_runs[max_fbest_index]\n",
    "max_history = history_runs[max_fbest_index]\n",
    "key = f\"Simulated Annealing Alpha={alpha}\"\n",
    "func_res[key] = {\"fbest\": max_fbest, \"history\": max_history}\n",
    "best_setting_key = max(func_res, key=lambda k: func_res[k][\"fbest\"])\n",
    "best_history = func_res[best_setting_key][\"history\"]"
   ],
   "id": "cca6bf5d1cfc3e7f",
   "outputs": [],
   "execution_count": 220
  },
  {
   "metadata": {
    "ExecuteTime": {
     "end_time": "2024-12-21T18:38:43.971821Z",
     "start_time": "2024-12-21T18:38:43.967174Z"
    }
   },
   "cell_type": "code",
   "source": "print(f\"{best_setting_key}: Best f(x): {func_res[best_setting_key]['fbest']:.4f}\")",
   "id": "684400a779741b16",
   "outputs": [
    {
     "name": "stdout",
     "output_type": "stream",
     "text": [
      "Simulated Annealing Alpha=0.99: Best f(x): 4.5704\n"
     ]
    }
   ],
   "execution_count": 221
  },
  {
   "metadata": {
    "ExecuteTime": {
     "end_time": "2024-12-21T18:45:02.433025Z",
     "start_time": "2024-12-21T18:42:04.318037Z"
    }
   },
   "cell_type": "code",
   "source": [
    "fmax_mc, xmax_mc, f_history_mc = monte_carlo(n, evals, SwedishPump)\n",
    "print(f\"Best f(x) found from Monte Carlo is: {fmax_mc}\")"
   ],
   "id": "9a91c08afe614c48",
   "outputs": [
    {
     "name": "stdout",
     "output_type": "stream",
     "text": [
      "Best f(x) found from Monte Carlo is: 2.5329280648429586\n",
      "Number of iterations to find the best value for Monte Carlo: 97159\n"
     ]
    }
   ],
   "execution_count": 224
  },
  {
   "metadata": {
    "ExecuteTime": {
     "end_time": "2024-12-21T18:41:46.554139Z",
     "start_time": "2024-12-21T18:41:45.363580Z"
    }
   },
   "cell_type": "code",
   "source": [
    "\"\"\"\n",
    "@author: ChatGPT\n",
    "\"\"\"\n",
    "fig, ax = plt.subplots(figsize=(10, 5))\n",
    "\n",
    "ax.plot(best_history, label=f\"Best Simulated Annealing Alpha={alpha}\", color='b')\n",
    "ax.plot(f_history_mc, label='Monte Carlo', linestyle='--', color='r')\n",
    "\n",
    "ax.set_title(\"Best Simulated Annealing vs Monte Carlo\")\n",
    "ax.set_xlabel('Iteration')\n",
    "ax.set_ylabel('Objective Function Value (f(x))')\n",
    "ax.legend()\n",
    "ax.grid(True)\n",
    "\n",
    "# Save the plot\n",
    "fig.savefig(\"plot_best_setting_vs_monte_carlo.png\", dpi=300)\n",
    "\n",
    "# Adjust the layout and show the plot\n",
    "plt.tight_layout()\n",
    "plt.show()"
   ],
   "id": "d3a37f77f1158cd5",
   "outputs": [
    {
     "data": {
      "text/plain": [
       "<Figure size 1000x500 with 1 Axes>"
      ],
      "image/png": "[encoded data removed]"
     },
     "metadata": {},
     "output_type": "display_data"
    }
   ],
   "execution_count": 223
  },
  {
   "metadata": {
    "ExecuteTime": {
     "end_time": "2024-12-21T18:41:46.562766Z",
     "start_time": "2024-12-21T18:41:46.559149Z"
    }
   },
   "cell_type": "code",
   "source": "",
   "id": "ea92fd2f47aa32c",
   "outputs": [],
   "execution_count": null
  }
 ],
 "metadata": {
  "kernelspec": {
   "display_name": "Python 3",
   "language": "python",
   "name": "python3"
  },
  "language_info": {
   "codemirror_mode": {
    "name": "ipython",
    "version": 2
   },
   "file_extension": ".py",
   "mimetype": "text/x-python",
   "name": "python",
   "nbconvert_exporter": "python",
   "pygments_lexer": "ipython2",
   "version": "2.7.6"
  }
 },
 "nbformat": 4,
 "nbformat_minor": 5
}
